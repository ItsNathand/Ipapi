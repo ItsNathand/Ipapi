{
 "cells": [
  {
   "cell_type": "markdown",
   "metadata": {},
   "source": [
    "# Chapitre 5 : Les tableaux (et homonymes)\n",
    "\n",
    "🎯 La liste **non exhaustif** des points d'intérêts à traiter dans ce chapitre :\n",
    "- [ ] Qu'est-ce qu'un tableau (ou stockage 1-D) d'une manière générale, à quoi sert-il, pourquoi en a-t-on besoin, comment le représenter en mémoire et graphiquement, etc...\n",
    "- [ ] La notion d'incide\n",
    "- [ ] Les deux types de tableaux principaux en Python, leurs caractéristiques, etc.\n",
    "- [ ] Les opérateurs de bases pour ces deux types de tableaux, dont comment manipuler la donnée qu'ils stockent, en rajouter, en supprimer, etc.\n",
    "- [ ] Quelques méthodes supplémentaires existantes et qui vous paraissent intéressantes pour travailler avec les tableaux\n",
    "\n",
    "⚠️ Le terme de tableau est générique en informatique. Toutefois, dans la communauté Python, il fait également référence à un objet de la [bibliothèque](../aide-memoire/aide_memoire_bibliotheque.ipynb) Numpy. Il n'est pas demandé ici de traiter ce type de tableau.\n",
    "\n",
    "❓ N'oubliez pas, il est attendu que vous adossiez à chaque notion élaborée dans ce chapitre des exemples concrets en code Python. Cela vous permettra :\n",
    "1. de pratiquer sur le fait la notion afin d'être sûr que vous l'avez correctement assimilée et comprise ;\n",
    "2. favoriser l'ancrage cognitif de cette notion (car vous êtes actifs), et;\n",
    "3. d'avoir un exemple de comment mettre en oeuvre la notion en question pour plus tard.\n",
    "\n",
    "❓ N'oubliez pas, les points d'intérêts sus-mentionés ne sont pas forcément exhaustif ! Vous aurez également un travail de recherche pour identifier les informations supplémentaires pertinentes ou essentielles à la maîtrise du concept de ce chapitre. Pour savoir si ce chapitre couvre suffisamment le concept en question, n'hésitez pas à pratiquer sur les exercices et avec les exemples.\n",
    "\n",
    "❓ N'oubliez pas de lister vos sources d'informations."
   ]
  },
  {
   "cell_type": "markdown",
   "metadata": {},
   "source": [
    "# Conclusion"
   ]
  },
  {
   "cell_type": "markdown",
   "metadata": {},
   "source": [
    "# Références"
   ]
  },
  {
   "cell_type": "markdown",
   "metadata": {},
   "source": [
    "# Échéance"
   ]
  },
  {
   "cell_type": "code",
   "execution_count": 1,
   "metadata": {},
   "outputs": [
    {
     "name": "stdout",
     "output_type": "stream",
     "text": [
      "Ce rapport est à rendre pour le 2024-11-11 au plus tard. Il vous reste donc 46.0 jour(s) pour rendre ce rapport à votre chargé de TDP\n"
     ]
    }
   ],
   "source": [
    "from datetime import date\n",
    "\n",
    "SECOND = 60\n",
    "MIN = 60\n",
    "HOUR = 24\n",
    "\n",
    "current = date.today()\n",
    "target = date(2024,11,11)#Avant reprise novembre\n",
    "\n",
    "res = (target - current).total_seconds()/(HOUR*MIN*SECOND)\n",
    "\n",
    "if(res > 0):\n",
    "    print(\"Ce rapport est à rendre pour le\",target,\"au plus tard. Il vous reste donc\",res,\"jour(s) pour rendre ce rapport à votre chargé de TDP\")\n",
    "elif (res == 0):\n",
    "    print(\"C'est aujourd'hui la deadline ! Arbeit 💪💪 !! (N'oubliez pas de rendre votre rapport à votre chargé de TDP)\")\n",
    "else:\n",
    "    print(\"Ce rapport était à rendre pour le\",target,\". Si ce n'est pas encore fait, vous êtes en retard de\",res*-1,\"jours par rapport aux attentes !\")"
   ]
  }
 ],
 "metadata": {
  "kernelspec": {
   "display_name": "Python 3",
   "language": "python",
   "name": "python3"
  },
  "language_info": {
   "codemirror_mode": {
    "name": "ipython",
    "version": 3
   },
   "file_extension": ".py",
   "mimetype": "text/x-python",
   "name": "python",
   "nbconvert_exporter": "python",
   "pygments_lexer": "ipython3",
   "version": "3.11.2"
  }
 },
 "nbformat": 4,
 "nbformat_minor": 2
}
