{
 "cells": [
  {
   "cell_type": "markdown",
   "metadata": {},
   "source": [
    "# Chapitre 5 : Les tableaux (et homonymes)\n",
    "\n",
    "🎯 La liste **non exhaustif** des points d'intérêts à traiter dans ce chapitre :\n",
    "- [ ] Qu'est-ce qu'un tableau (ou stockage 1-D) d'une manière générale, à quoi sert-il, pourquoi en a-t-on besoin, comment le représenter en mémoire et graphiquement, etc...\n",
    "- [ ] La notion d'incide\n",
    "- [ ] Les deux types de tableaux principaux en Python, leurs caractéristiques, etc.\n",
    "- [ ] Les opérateurs de bases pour ces deux types de tableaux, dont comment manipuler la donnée qu'ils stockent, en rajouter, en supprimer, etc.\n",
    "- [ ] Quelques méthodes supplémentaires existantes et qui vous paraissent intéressantes pour travailler avec les tableaux\n",
    "\n",
    "⚠️ Le terme de tableau est générique en informatique. Toutefois, dans la communauté Python, il fait également référence à un objet de la [bibliothèque](../aide-memoire/aide_memoire_bibliotheque.ipynb) Numpy. Il n'est pas demandé ici de traiter ce type de tableau.\n",
    "\n",
    "❓ N'oubliez pas, il est attendu que vous adossiez à chaque notion élaborée dans ce chapitre des exemples concrets en code Python. Cela vous permettra :\n",
    "1. de pratiquer sur le fait la notion afin d'être sûr que vous l'avez correctement assimilée et comprise ;\n",
    "2. favoriser l'ancrage cognitif de cette notion (car vous êtes actifs), et;\n",
    "3. d'avoir un exemple de comment mettre en oeuvre la notion en question pour plus tard.\n",
    "\n",
    "❓ N'oubliez pas, les points d'intérêts sus-mentionés ne sont pas forcément exhaustif ! Vous aurez également un travail de recherche pour identifier les informations supplémentaires pertinentes ou essentielles à la maîtrise du concept de ce chapitre. Pour savoir si ce chapitre couvre suffisamment le concept en question, n'hésitez pas à pratiquer sur les exercices et avec les exemples.\n",
    "\n",
    "❓ N'oubliez pas de lister vos sources d'informations."
   ]
  },
  {
   "cell_type": "markdown",
   "metadata": {},
   "source": [

Chapitre: Introduction aux Tableaux (Stockage 1-D)

Dans ce chapitre, nous aborderons les concepts fondamentaux des tableaux en informatique, avec un accent particulier sur leur utilisation en Python. Voici une exploration des points d’intérêts énumérés, accompagnée d’exemples concrets en code Python pour renforcer votre compréhension.

Qu’est-ce qu’un tableau (ou stockage 1-D) ?

Un tableau est une structure de données linéaire permettant de stocker une collection d’éléments de manière séquentielle. Les tableaux sont particulièrement utiles pour organiser et manipuler de grandes quantités de données qui doivent être traitées en groupe. En mémoire, les éléments d’un tableau sont placés consécutivement, ce qui permet un accès rapide et efficace.
	•	Utilité : Permet le stockage organisé et l’accès rapide aux éléments.
	•	Représentation : En mémoire, les éléments sont stockés de manière contiguë, et chaque élément est accessible via un indice.

Exemple :

# Création d'un tableau simple en Python
tableau = [10, 20, 30, 40, 50]
print(tableau)
# Accès à un élément du tableau
print("Premier élément :", tableau[0])

La notion d’indice

Un indice est un entier permettant de référencer la position d’un élément dans un tableau. En Python, les indices commencent à 0 (indice du premier élément) et augmentent jusqu’à la fin du tableau.

Exemple :

# Accès aux éléments par leur indice
print("Deuxième élément :", tableau[1])  # Affiche 20
# Modification d'un élément
tableau[2] = 35
print("Tableau modifié :", tableau)

Les deux types de tableaux principaux en Python

En Python, les deux types de tableaux les plus couramment utilisés sont :
	1.	Les listes : Elles sont dynamiques et peuvent contenir des éléments de types différents.
	2.	Les tuples : Ils sont immuables, c’est-à-dire que leur contenu ne peut pas être modifié après création.

Exemple :

# Création d'une liste
ma_liste = [1, 2, 3]
print("Liste :", ma_liste)

# Création d'un tuple
mon_tuple = (4, 5, 6)
print("Tuple :", mon_tuple)

Les opérateurs de base pour ces deux types de tableaux

Pour manipuler les données dans les tableaux en Python, voici quelques opérateurs et méthodes de base :
	•	Ajout d’éléments : append() pour les listes.
	•	Suppression d’éléments : remove(), pop().
	•	Accès et modification : Accès par indice pour lire ou changer la valeur d’un élément.

Exemple :

# Ajout d'éléments à une liste
ma_liste.append(4)
print("Liste après ajout :", ma_liste)

# Suppression d'un élément de la liste
ma_liste.remove(2)
print("Liste après suppression :", ma_liste)

Méthodes supplémentaires pour travailler avec les tableaux

En Python, les listes proposent plusieurs méthodes intéressantes pour faciliter la manipulation des données :
	•	sort() : Tri la liste.
	•	reverse() : Inverse les éléments de la liste.
	•	count() : Compte les occurrences d’un élément.

Exemple :

# Tri de la liste
ma_liste.sort()
print("Liste triée :", ma_liste)

# Inversion des éléments
ma_liste.reverse()
print("Liste inversée :", ma_liste)

# Compter les occurrences d'un élément
occurrences = ma_liste.count(3)
print("Nombre d'occurrences de 3 :", occurrences)

Conclusion et exploration supplémentaire

Ce chapitre a couvert les bases des tableaux en Python et présenté plusieurs manipulations fondamentales. Cependant, il est important de continuer à explorer pour affiner votre maîtrise de cette structure. Vous pouvez, par exemple, explorer les compréhensions de liste, les itérations avancées et les bibliothèques de traitement de données comme pandas ou collections.


   ]
  },
  {
   "cell_type": "markdown",
   "metadata": {},
   "source": [
    "# Références"
    "Sources

	•	Documentation officielle de Python : https://docs.python.org/"

   ]
  },
  {
   "cell_type": "markdown",
   "metadata": {},
   "source": [
    "# Échéance"
   ]
  },
  {
   "cell_type": "code",
   "execution_count": 1,
   "metadata": {},
   "outputs": [
    {
     "name": "stdout",
     "output_type": "stream",
     "text": [
      "Ce rapport est à rendre pour le 2024-11-11 au plus tard. Il vous reste donc 46.0 jour(s) pour rendre ce rapport à votre chargé de TDP\n"
     ]
    }
   ],
   "source": [
    "from datetime import date\n",
    "\n",
    "SECOND = 60\n",
    "MIN = 60\n",
    "HOUR = 24\n",
    "\n",
    "current = date.today()\n",
    "target = date(2024,11,11)#Avant reprise novembre\n",
    "\n",
    "res = (target - current).total_seconds()/(HOUR*MIN*SECOND)\n",
    "\n",
    "if(res > 0):\n",
    "    print(\"Ce rapport est à rendre pour le\",target,\"au plus tard. Il vous reste donc\",res,\"jour(s) pour rendre ce rapport à votre chargé de TDP\")\n",
    "elif (res == 0):\n",
    "    print(\"C'est aujourd'hui la deadline ! Arbeit 💪💪 !! (N'oubliez pas de rendre votre rapport à votre chargé de TDP)\")\n",
    "else:\n",
    "    print(\"Ce rapport était à rendre pour le\",target,\". Si ce n'est pas encore fait, vous êtes en retard de\",res*-1,\"jours par rapport aux attentes !\")"
   ]
  }
 ],
 "metadata": {
  "kernelspec": {
   "display_name": "Python 3",
   "language": "python",
   "name": "python3"
  },
  "language_info": {
   "codemirror_mode": {
    "name": "ipython",
    "version": 3
   },
   "file_extension": ".py",
   "mimetype": "text/x-python",
   "name": "python",
   "nbconvert_exporter": "python",
   "pygments_lexer": "ipython3",
   "version": "3.11.2"
  }
 },
 "nbformat": 4,
 "nbformat_minor": 2
}
